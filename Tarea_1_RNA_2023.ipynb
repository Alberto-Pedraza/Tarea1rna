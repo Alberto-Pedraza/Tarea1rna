{
  "nbformat": 4,
  "nbformat_minor": 0,
  "metadata": {
    "colab": {
      "provenance": [],
      "authorship_tag": "ABX9TyOUQh+13+tLm8+UB3LBEIgF",
      "include_colab_link": true
    },
    "kernelspec": {
      "name": "python3",
      "display_name": "Python 3"
    }
  },
  "cells": [
    {
      "cell_type": "markdown",
      "metadata": {
        "id": "view-in-github",
        "colab_type": "text"
      },
      "source": [
        "<a href=\"https://colab.research.google.com/github/Alberto-Pedraza/Tarea1rna/blob/main/Tarea_1_RNA_2023.ipynb\" target=\"_parent\"><img src=\"https://colab.research.google.com/assets/colab-badge.svg\" alt=\"Open In Colab\"/></a>"
      ]
    },
    {
      "cell_type": "markdown",
      "metadata": {
        "id": "u1DJp6lYrfw-"
      },
      "source": [
        "Implementación de network.py y entrenamiento para la primer tarea de la clase de redes neuronales.\n",
        "\n"
      ]
    },
    {
      "cell_type": "code",
      "metadata": {
        "id": "ylvDblFsU2YM",
        "outputId": "415c6372-b1fb-4e66-96bf-fdf4cbe53271",
        "colab": {
          "base_uri": "https://localhost:8080/"
        }
      },
      "source": [
        "#Descargamos los archivos desde el repositorio\n",
        "!git clone https://github.com/Alberto-Pedraza/Tarea1rna.git"
      ],
      "execution_count": 2,
      "outputs": [
        {
          "output_type": "stream",
          "name": "stdout",
          "text": [
            "Cloning into 'Tarea1rna'...\n",
            "remote: Enumerating objects: 15, done.\u001b[K\n",
            "remote: Counting objects: 100% (15/15), done.\u001b[K\n",
            "remote: Compressing objects: 100% (13/13), done.\u001b[K\n",
            "remote: Total 15 (delta 2), reused 5 (delta 0), pack-reused 0\u001b[K\n",
            "Receiving objects: 100% (15/15), 16.20 MiB | 24.18 MiB/s, done.\n",
            "Resolving deltas: 100% (2/2), done.\n"
          ]
        }
      ]
    },
    {
      "cell_type": "code",
      "source": [
        "#Cambiamos de directorio al que se acaba de descargar y contiene los \\\n",
        "#archivos que se necesitan para entrenar la red\n",
        "%cd Tarea1rna/"
      ],
      "metadata": {
        "id": "8XK_FSFkr9WU",
        "outputId": "f92d457f-19e7-4ea9-efab-19c3060230bd",
        "colab": {
          "base_uri": "https://localhost:8080/"
        }
      },
      "execution_count": 3,
      "outputs": [
        {
          "output_type": "stream",
          "name": "stdout",
          "text": [
            "/content/Tarea1rna\n"
          ]
        }
      ]
    },
    {
      "cell_type": "code",
      "source": [
        "#Ejecutamos el archivo con el que se va a entrenar la red\n",
        "%run test.py"
      ],
      "metadata": {
        "colab": {
          "base_uri": "https://localhost:8080/"
        },
        "id": "CAbaG5uIw6T9",
        "outputId": "91ece258-8e02-49f5-9989-9a3753b26870"
      },
      "execution_count": 5,
      "outputs": [
        {
          "output_type": "stream",
          "name": "stdout",
          "text": [
            "Epoch 0 : 8220 / 10000\n",
            "Epoch 1 : 9212 / 10000\n",
            "Epoch 2 : 9280 / 10000\n",
            "Epoch 3 : 9360 / 10000\n",
            "Epoch 4 : 9368 / 10000\n",
            "Epoch 5 : 9362 / 10000\n",
            "Epoch 6 : 9445 / 10000\n",
            "Epoch 7 : 9448 / 10000\n",
            "Epoch 8 : 9453 / 10000\n",
            "Epoch 9 : 9469 / 10000\n",
            "Epoch 10 : 9470 / 10000\n",
            "Epoch 11 : 9461 / 10000\n",
            "Epoch 12 : 9473 / 10000\n",
            "Epoch 13 : 9462 / 10000\n",
            "Epoch 14 : 9449 / 10000\n",
            "Epoch 15 : 9466 / 10000\n",
            "Epoch 16 : 9485 / 10000\n",
            "Epoch 17 : 9464 / 10000\n",
            "Epoch 18 : 9499 / 10000\n",
            "Epoch 19 : 9478 / 10000\n",
            "Epoch 20 : 9500 / 10000\n",
            "Epoch 21 : 9491 / 10000\n",
            "Epoch 22 : 9478 / 10000\n",
            "Epoch 23 : 9486 / 10000\n",
            "Epoch 24 : 9495 / 10000\n",
            "Epoch 25 : 9506 / 10000\n",
            "Epoch 26 : 9500 / 10000\n",
            "Epoch 27 : 9524 / 10000\n",
            "Epoch 28 : 9504 / 10000\n",
            "Epoch 29 : 9499 / 10000\n"
          ]
        }
      ]
    }
  ]
}